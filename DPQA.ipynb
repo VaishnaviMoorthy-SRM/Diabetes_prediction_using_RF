{
  "nbformat": 4,
  "nbformat_minor": 0,
  "metadata": {
    "colab": {
      "provenance": [],
      "toc_visible": true,
      "authorship_tag": "ABX9TyNRPVRAZwNwMXwlHMnjwRqI",
      "include_colab_link": true
    },
    "kernelspec": {
      "name": "python3",
      "display_name": "Python 3"
    },
    "language_info": {
      "name": "python"
    }
  },
  "cells": [
    {
      "cell_type": "markdown",
      "metadata": {
        "id": "view-in-github",
        "colab_type": "text"
      },
      "source": [
        "<a href=\"https://colab.research.google.com/github/VaishnaviMoorthy-SRM/Diabetes_prediction_using_RF/blob/main/DPQA.ipynb\" target=\"_parent\"><img src=\"https://colab.research.google.com/assets/colab-badge.svg\" alt=\"Open In Colab\"/></a>"
      ]
    },
    {
      "cell_type": "code",
      "source": [
        "import pandas as pd\n",
        "import numpy as np\n",
        "from sklearn.model_selection import train_test_split\n",
        "from sklearn.ensemble import RandomForestClassifier\n",
        "from sklearn.metrics import accuracy_score, roc_auc_score, f1_score, confusion_matrix\n",
        "from sklearn.preprocessing import StandardScaler\n",
        "from sklearn.model_selection import StratifiedKFold, GridSearchCV\n",
        "from imblearn.over_sampling import SMOTE\n",
        "df = pd.read_csv('DPQA.csv')\n",
        "\n",
        "# Remove rows with non-numeric values or invalid values like '#VALUE!'\n",
        "# Replace them with NaN for easy handling\n",
        "df.replace('#VALUE!', np.nan, inplace=True)\n",
        "\n",
        "# Convert columns to numeric (excluding 'Insulin' which is the target)\n",
        "numeric_cols = ['Age', 'ACR', 'BGL_F', 'BGL_R', 'BMI', 'BP_S', 'BP_D', 'HbA1c', 'LDL', 'OS', 'Fam_h', 'Weight']\n",
        "df[numeric_cols] = df[numeric_cols].apply(pd.to_numeric, errors='coerce')\n",
        "\n",
        "# Drop rows with missing values (NaN) in any of the numeric columns\n",
        "df.dropna(subset=numeric_cols, inplace=True)\n",
        "\n",
        "# Separate features (X) and target variable (y)\n",
        "X = df.drop('Insulin', axis=1)\n",
        "y = df['Insulin']\n",
        "\n",
        "# Split the dataset into training and testing sets\n",
        "X_train, X_test, y_train, y_test = train_test_split(X, y, test_size=0.2, random_state=42)\n",
        "\n",
        "# Standardize the feature data (mean=0, std=1)\n",
        "scaler = StandardScaler()\n",
        "X_train = scaler.fit_transform(X_train)\n",
        "X_test = scaler.transform(X_test)\n",
        "\n",
        "# Handling class imbalance with SMOTE\n",
        "smote = SMOTE(random_state=42)\n",
        "X_train_resampled, y_train_resampled = smote.fit_resample(X_train, y_train)\n",
        "\n",
        "# Initialize and train your machine learning model (Random Forest Classifier)\n",
        "rf = RandomForestClassifier(random_state=1)\n",
        "\n",
        "# Fit the model on the resampled training data\n",
        "rf.fit(X_train_resampled, y_train_resampled)\n",
        "\n",
        "# Predict on the test data\n",
        "y_pred = rf.predict(X_test)\n",
        "\n",
        "# Calculate evaluation metrics (e.g., accuracy, ROC AUC, F1-score)\n",
        "accuracy = accuracy_score(y_test, y_pred)\n",
        "roc_auc = roc_auc_score(y_test, y_pred)\n",
        "\n",
        "print(f'Accuracy: {accuracy:.4f}')\n",
        "print(f'ROC AUC: {roc_auc:.4f}')\n",
        "\n",
        "# Hyperparameter tuning using GridSearchCV\n",
        "param_grid = {\n",
        "    'n_estimators': [100, 200, 300],\n",
        "    'max_depth': [5, 10, 15]\n",
        "}\n",
        "\n",
        "grid_search = GridSearchCV(estimator=rf, param_grid=param_grid, cv=StratifiedKFold(n_splits=5, shuffle=True))\n",
        "grid_search.fit(X_train_resampled, y_train_resampled)\n",
        "\n",
        "best_rf = grid_search.best_estimator_\n",
        "\n",
        "# Evaluate the best model\n",
        "y_pred_best = best_rf.predict(X_test)\n",
        "accuracy_best = accuracy_score(y_test, y_pred_best)\n",
        "roc_auc_best = roc_auc_score(y_test, y_pred_best)\n",
        "\n",
        "print('\\nBest Model Evaluation:')\n",
        "print(f'Accuracy: {accuracy_best:.4f}')\n",
        "print(f'ROC AUC: {roc_auc_best:.4f}')"
      ],
      "metadata": {
        "colab": {
          "base_uri": "https://localhost:8080/"
        },
        "id": "iw34ge1wFMpi",
        "outputId": "b6fd70dc-833b-4e01-d053-8bb21a3aae03"
      },
      "execution_count": null,
      "outputs": [
        {
          "output_type": "stream",
          "name": "stdout",
          "text": [
            "Accuracy: 0.9666\n",
            "ROC AUC: 0.7389\n",
            "\n",
            "Best Model Evaluation:\n",
            "Accuracy: 0.9650\n",
            "ROC AUC: 0.7787\n"
          ]
        }
      ]
    },
    {
      "cell_type": "code",
      "source": [
        "import matplotlib.pyplot as plt\n",
        "from sklearn.metrics import roc_curve\n",
        "\n",
        "def plot_roc_curve(y_test, y_pred_best):\n",
        "    \"\"\"\n",
        "    plots the roc curve based of the probabilities\n",
        "    \"\"\"\n",
        "\n",
        "    fpr, tpr, thresholds = roc_curve(y_test, y_pred_best)\n",
        "    plt.plot(fpr, tpr)\n",
        "    plt.xlabel('False Positive Rate')\n",
        "    plt.ylabel('True Positive Rate')\n",
        "    plt.show()\n",
        "y_pred_prob_best = best_rf.predict_proba(X_test)[:, 1]  # Get predicted probabilities for class 1\n",
        "plot_roc_curve(y_test, y_pred_prob_best)"
      ],
      "metadata": {
        "colab": {
          "base_uri": "https://localhost:8080/",
          "height": 449
        },
        "id": "_ICOnoq2G4Rm",
        "outputId": "41593e0f-fe06-4d6b-ef4d-eb8d62e5e2ab"
      },
      "execution_count": null,
      "outputs": [
        {
          "output_type": "display_data",
          "data": {
            "text/plain": [
              "<Figure size 640x480 with 1 Axes>"
            ],
            "image/png": "[encoded data removed]"
          },
          "metadata": {}
        }
      ]
    }
  ]
}